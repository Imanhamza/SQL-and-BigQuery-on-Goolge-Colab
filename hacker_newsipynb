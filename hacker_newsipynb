{
  "nbformat": 4,
  "nbformat_minor": 0,
  "metadata": {
    "colab": {
      "name": "sql_kaggle.ipynb",
      "provenance": [],
      "collapsed_sections": [],
      "authorship_tag": "ABX9TyOAlCZtUXsmzsV0uXLOHYOH",
      "include_colab_link": true
    },
    "kernelspec": {
      "name": "python3",
      "display_name": "Python 3"
    },
    "language_info": {
      "name": "python"
    }
  },
  "cells": [
    {
      "cell_type": "markdown",
      "metadata": {
        "id": "view-in-github",
        "colab_type": "text"
      },
      "source": [
        "<a href=\"https://colab.research.google.com/github/Imanhamza/SQL-and-BigQuery-on-Goolge-Colab/blob/main/sql_kaggle.ipynb\" target=\"_parent\"><img src=\"https://colab.research.google.com/assets/colab-badge.svg\" alt=\"Open In Colab\"/></a>"
      ]
    },
    {
      "cell_type": "markdown",
      "source": [
        "Start by fetch the api of bigquery (don't forget to enable **bigquery api**)"
      ],
      "metadata": {
        "id": "a5BTXk1NWI2r"
      }
    },
    {
      "cell_type": "code",
      "source": [
        "from google.colab import auth\n",
        "auth.authenticate_user()\n",
        "print('Authenticated')"
      ],
      "metadata": {
        "colab": {
          "base_uri": "https://localhost:8080/"
        },
        "id": "ihoA5SZ_SqHu",
        "outputId": "09ece957-8c77-4f56-a98d-1ed271dda079"
      },
      "execution_count": 12,
      "outputs": [
        {
          "output_type": "stream",
          "name": "stdout",
          "text": [
            "Authenticated\n"
          ]
        }
      ]
    },
    {
      "cell_type": "markdown",
      "source": [
        "### Importing BigQuery library"
      ],
      "metadata": {
        "id": "7Ed9MG27Wdwq"
      }
    },
    {
      "cell_type": "code",
      "source": [
        "from google.cloud import bigquery"
      ],
      "metadata": {
        "id": "pnqSwkGcS-Id"
      },
      "execution_count": 13,
      "outputs": []
    },
    {
      "cell_type": "markdown",
      "source": [
        "Create **client** object to retrive information from Google BigQuery."
      ],
      "metadata": {
        "id": "utqgdtdTWtXZ"
      }
    },
    {
      "cell_type": "code",
      "source": [
        "client = bigquery.Client()"
      ],
      "metadata": {
        "id": "gTeqXF-VTDce"
      },
      "execution_count": 14,
      "outputs": []
    },
    {
      "cell_type": "markdown",
      "source": [
        "## To access the data\n",
        "\n",
        "\n",
        "1.   construct refrence for the data by \n",
        "\n",
        "```\n",
        "client.dataset(dataset_id, project_id)\n",
        "```\n",
        "\n",
        "\n",
        "\n"
      ],
      "metadata": {
        "id": "MD7WapSyW_mt"
      }
    },
    {
      "cell_type": "code",
      "source": [
        "data_ref = client.dataset('hacker_news', project = 'bigquery-public-data')"
      ],
      "metadata": {
        "id": "cAcq2-FkTI3T"
      },
      "execution_count": 15,
      "outputs": []
    },
    {
      "cell_type": "code",
      "source": [
        "type(data_ref)"
      ],
      "metadata": {
        "colab": {
          "base_uri": "https://localhost:8080/"
        },
        "id": "KPbj1wv-XoXT",
        "outputId": "29930935-1762-4b9f-a90d-cad04ed38be2"
      },
      "execution_count": 23,
      "outputs": [
        {
          "output_type": "execute_result",
          "data": {
            "text/plain": [
              "google.cloud.bigquery.dataset.DatasetReference"
            ]
          },
          "metadata": {},
          "execution_count": 23
        }
      ]
    },
    {
      "cell_type": "markdown",
      "source": [
        "2. Fetch the data set by:\n",
        "\n",
        "\n",
        "```\n",
        "client.get_dataset(dataset reference)\n",
        "```\n",
        "or you can use this syntax instead:\n",
        "```\n",
        "client.get_dataset('project_id.dataset_id')\n",
        "```"
      ],
      "metadata": {
        "id": "lgVvScwcXyL8"
      }
    },
    {
      "cell_type": "code",
      "source": [
        "n_dataset = client.get_dataset(data_ref)"
      ],
      "metadata": {
        "id": "K1byaTSuTnkS"
      },
      "execution_count": 16,
      "outputs": []
    },
    {
      "cell_type": "markdown",
      "source": [
        "We use ``` list_table``` method to list the tables withinthe dataset."
      ],
      "metadata": {
        "id": "TmCS6nvBYbez"
      }
    },
    {
      "cell_type": "code",
      "source": [
        "tables = list(client.list_tables(n_dataset))"
      ],
      "metadata": {
        "id": "-pvf5mHrUFu1"
      },
      "execution_count": 17,
      "outputs": []
    },
    {
      "cell_type": "code",
      "source": [
        "for table in tables:\n",
        "  print(table.table_id)"
      ],
      "metadata": {
        "colab": {
          "base_uri": "https://localhost:8080/"
        },
        "id": "QXuVe9v9UPMc",
        "outputId": "52a2ade6-86d5-4e1d-d7cb-2b7c98298438"
      },
      "execution_count": 18,
      "outputs": [
        {
          "output_type": "stream",
          "name": "stdout",
          "text": [
            "comments\n",
            "full\n",
            "full_201510\n",
            "stories\n"
          ]
        }
      ]
    },
    {
      "cell_type": "markdown",
      "source": [
        "We can fetch the ``` full ``` data tables as we did it with the dataset, but with ``` client.get_tables( tables reference) ``` after defining the tables reference by ``` data_ref.table() ```."
      ],
      "metadata": {
        "id": "p4LiYsKbY8Ht"
      }
    },
    {
      "cell_type": "code",
      "source": [
        "table_ref = data_ref.table(\"full\")"
      ],
      "metadata": {
        "id": "cDpCxTK-UY2p"
      },
      "execution_count": 19,
      "outputs": []
    },
    {
      "cell_type": "code",
      "source": [
        "n_table = client.get_table(table_ref)"
      ],
      "metadata": {
        "id": "efOIUe-UVpqq"
      },
      "execution_count": 20,
      "outputs": []
    },
    {
      "cell_type": "markdown",
      "source": [
        "let's take a look at the fetched tables above by using ``` schema ``` method"
      ],
      "metadata": {
        "id": "L8e7np4yZ3n_"
      }
    },
    {
      "cell_type": "code",
      "source": [
        "n_table.schema"
      ],
      "metadata": {
        "colab": {
          "base_uri": "https://localhost:8080/"
        },
        "id": "8IUJcFFrV5pI",
        "outputId": "e5ba00bc-57db-4c51-c53e-89f00849c5a7"
      },
      "execution_count": 22,
      "outputs": [
        {
          "output_type": "execute_result",
          "data": {
            "text/plain": [
              "[SchemaField('title', 'STRING', 'NULLABLE', 'Story title', ()),\n",
              " SchemaField('url', 'STRING', 'NULLABLE', 'Story url', ()),\n",
              " SchemaField('text', 'STRING', 'NULLABLE', 'Story or comment text', ()),\n",
              " SchemaField('dead', 'BOOLEAN', 'NULLABLE', 'Is dead?', ()),\n",
              " SchemaField('by', 'STRING', 'NULLABLE', \"The username of the item's author.\", ()),\n",
              " SchemaField('score', 'INTEGER', 'NULLABLE', 'Story score', ()),\n",
              " SchemaField('time', 'INTEGER', 'NULLABLE', 'Unix time', ()),\n",
              " SchemaField('timestamp', 'TIMESTAMP', 'NULLABLE', 'Timestamp for the unix time', ()),\n",
              " SchemaField('type', 'STRING', 'NULLABLE', 'Type of details (comment, comment_ranking, poll, story, job, pollopt)', ()),\n",
              " SchemaField('id', 'INTEGER', 'NULLABLE', \"The item's unique id.\", ()),\n",
              " SchemaField('parent', 'INTEGER', 'NULLABLE', 'Parent comment ID', ()),\n",
              " SchemaField('descendants', 'INTEGER', 'NULLABLE', 'Number of story or poll descendants', ()),\n",
              " SchemaField('ranking', 'INTEGER', 'NULLABLE', 'Comment ranking', ()),\n",
              " SchemaField('deleted', 'BOOLEAN', 'NULLABLE', 'Is deleted?', ())]"
            ]
          },
          "metadata": {},
          "execution_count": 22
        }
      ]
    },
    {
      "cell_type": "markdown",
      "source": [
        "Each ``` schemaField ``` represented by a row contain:\n",
        "1. The **name** of the column.\n",
        "2. The **field type** (or datatype) in the column.\n",
        "3. The **mode** of the column (``` 'NULLABLE'``` means that a column allows NULL values, and is the default).\n",
        "4. A **description** of the data in that column"
      ],
      "metadata": {
        "id": "MGFoMRnmWFni"
      }
    },
    {
      "cell_type": "markdown",
      "source": [
        "We can check the rows of the dataset to check if they are right or not by using ``` client.list_rows(table, max_results = num)```."
      ],
      "metadata": {
        "id": "iJE_DiQbboGp"
      }
    },
    {
      "cell_type": "code",
      "source": [
        "table_rows = client.list_rows(n_table, max_results= 5)"
      ],
      "metadata": {
        "id": "aUBpdZ5XcSvp"
      },
      "execution_count": 24,
      "outputs": []
    },
    {
      "cell_type": "code",
      "source": [
        "type(table_rows)"
      ],
      "metadata": {
        "colab": {
          "base_uri": "https://localhost:8080/"
        },
        "id": "50g6e2JQcrmp",
        "outputId": "9a99ca98-3686-4b98-d19c-1f28f281c481"
      },
      "execution_count": 25,
      "outputs": [
        {
          "output_type": "execute_result",
          "data": {
            "text/plain": [
              "google.cloud.bigquery.table.RowIterator"
            ]
          },
          "metadata": {},
          "execution_count": 25
        }
      ]
    },
    {
      "cell_type": "markdown",
      "source": [
        "Because the result of ```list_rows()``` method returns a BigQuery ```RowIterator``` we can convert it into pandas table by using ```to_dataframe()``` to return it into a table."
      ],
      "metadata": {
        "id": "XK2uyecpcvn3"
      }
    },
    {
      "cell_type": "code",
      "source": [
        "table_rows.to_dataframe()"
      ],
      "metadata": {
        "colab": {
          "base_uri": "https://localhost:8080/",
          "height": 333
        },
        "id": "iiI6DgVqdWKv",
        "outputId": "19de8aba-f097-4be9-c2c3-44c92bb86e54"
      },
      "execution_count": 26,
      "outputs": [
        {
          "output_type": "execute_result",
          "data": {
            "text/plain": [
              "  title   url                                               text  dead  \\\n",
              "0  None  None  Will PayPal allow GitTip to escrow the funds?<...  None   \n",
              "1  None  None                                     Once it ships.  None   \n",
              "2  None  None  One can have a material impact on people&#x27;...  None   \n",
              "3  None  None  If anyone else had trouble reading the site be...  None   \n",
              "4  None  None  Or maybe truly reusable plastics could work? S...  None   \n",
              "\n",
              "            by score        time                 timestamp     type        id  \\\n",
              "0     sgornick  None  1341511016 2012-07-05 17:56:56+00:00  comment   4204086   \n",
              "1   Dylanlacey  None  1345603031 2012-08-22 02:37:11+00:00  comment   4415804   \n",
              "2  annabellish  None  1524301053 2018-04-21 08:57:33+00:00  comment  16890605   \n",
              "3      engtech  None  1326912249 2012-01-18 18:44:09+00:00  comment   3481158   \n",
              "4       b1daly  None  1534845394 2018-08-21 09:56:34+00:00  comment  17808341   \n",
              "\n",
              "     parent descendants ranking deleted  \n",
              "0   4200581        None    None    None  \n",
              "1   4414778        None    None    None  \n",
              "2  16890400        None    None    None  \n",
              "3   3480635        None    None    None  \n",
              "4  17804854        None    None    None  "
            ],
            "text/html": [
              "\n",
              "  <div id=\"df-628812ef-8408-4824-ad9e-1cc59e6c16ac\">\n",
              "    <div class=\"colab-df-container\">\n",
              "      <div>\n",
              "<style scoped>\n",
              "    .dataframe tbody tr th:only-of-type {\n",
              "        vertical-align: middle;\n",
              "    }\n",
              "\n",
              "    .dataframe tbody tr th {\n",
              "        vertical-align: top;\n",
              "    }\n",
              "\n",
              "    .dataframe thead th {\n",
              "        text-align: right;\n",
              "    }\n",
              "</style>\n",
              "<table border=\"1\" class=\"dataframe\">\n",
              "  <thead>\n",
              "    <tr style=\"text-align: right;\">\n",
              "      <th></th>\n",
              "      <th>title</th>\n",
              "      <th>url</th>\n",
              "      <th>text</th>\n",
              "      <th>dead</th>\n",
              "      <th>by</th>\n",
              "      <th>score</th>\n",
              "      <th>time</th>\n",
              "      <th>timestamp</th>\n",
              "      <th>type</th>\n",
              "      <th>id</th>\n",
              "      <th>parent</th>\n",
              "      <th>descendants</th>\n",
              "      <th>ranking</th>\n",
              "      <th>deleted</th>\n",
              "    </tr>\n",
              "  </thead>\n",
              "  <tbody>\n",
              "    <tr>\n",
              "      <th>0</th>\n",
              "      <td>None</td>\n",
              "      <td>None</td>\n",
              "      <td>Will PayPal allow GitTip to escrow the funds?&lt;...</td>\n",
              "      <td>None</td>\n",
              "      <td>sgornick</td>\n",
              "      <td>None</td>\n",
              "      <td>1341511016</td>\n",
              "      <td>2012-07-05 17:56:56+00:00</td>\n",
              "      <td>comment</td>\n",
              "      <td>4204086</td>\n",
              "      <td>4200581</td>\n",
              "      <td>None</td>\n",
              "      <td>None</td>\n",
              "      <td>None</td>\n",
              "    </tr>\n",
              "    <tr>\n",
              "      <th>1</th>\n",
              "      <td>None</td>\n",
              "      <td>None</td>\n",
              "      <td>Once it ships.</td>\n",
              "      <td>None</td>\n",
              "      <td>Dylanlacey</td>\n",
              "      <td>None</td>\n",
              "      <td>1345603031</td>\n",
              "      <td>2012-08-22 02:37:11+00:00</td>\n",
              "      <td>comment</td>\n",
              "      <td>4415804</td>\n",
              "      <td>4414778</td>\n",
              "      <td>None</td>\n",
              "      <td>None</td>\n",
              "      <td>None</td>\n",
              "    </tr>\n",
              "    <tr>\n",
              "      <th>2</th>\n",
              "      <td>None</td>\n",
              "      <td>None</td>\n",
              "      <td>One can have a material impact on people&amp;#x27;...</td>\n",
              "      <td>None</td>\n",
              "      <td>annabellish</td>\n",
              "      <td>None</td>\n",
              "      <td>1524301053</td>\n",
              "      <td>2018-04-21 08:57:33+00:00</td>\n",
              "      <td>comment</td>\n",
              "      <td>16890605</td>\n",
              "      <td>16890400</td>\n",
              "      <td>None</td>\n",
              "      <td>None</td>\n",
              "      <td>None</td>\n",
              "    </tr>\n",
              "    <tr>\n",
              "      <th>3</th>\n",
              "      <td>None</td>\n",
              "      <td>None</td>\n",
              "      <td>If anyone else had trouble reading the site be...</td>\n",
              "      <td>None</td>\n",
              "      <td>engtech</td>\n",
              "      <td>None</td>\n",
              "      <td>1326912249</td>\n",
              "      <td>2012-01-18 18:44:09+00:00</td>\n",
              "      <td>comment</td>\n",
              "      <td>3481158</td>\n",
              "      <td>3480635</td>\n",
              "      <td>None</td>\n",
              "      <td>None</td>\n",
              "      <td>None</td>\n",
              "    </tr>\n",
              "    <tr>\n",
              "      <th>4</th>\n",
              "      <td>None</td>\n",
              "      <td>None</td>\n",
              "      <td>Or maybe truly reusable plastics could work? S...</td>\n",
              "      <td>None</td>\n",
              "      <td>b1daly</td>\n",
              "      <td>None</td>\n",
              "      <td>1534845394</td>\n",
              "      <td>2018-08-21 09:56:34+00:00</td>\n",
              "      <td>comment</td>\n",
              "      <td>17808341</td>\n",
              "      <td>17804854</td>\n",
              "      <td>None</td>\n",
              "      <td>None</td>\n",
              "      <td>None</td>\n",
              "    </tr>\n",
              "  </tbody>\n",
              "</table>\n",
              "</div>\n",
              "      <button class=\"colab-df-convert\" onclick=\"convertToInteractive('df-628812ef-8408-4824-ad9e-1cc59e6c16ac')\"\n",
              "              title=\"Convert this dataframe to an interactive table.\"\n",
              "              style=\"display:none;\">\n",
              "        \n",
              "  <svg xmlns=\"http://www.w3.org/2000/svg\" height=\"24px\"viewBox=\"0 0 24 24\"\n",
              "       width=\"24px\">\n",
              "    <path d=\"M0 0h24v24H0V0z\" fill=\"none\"/>\n",
              "    <path d=\"M18.56 5.44l.94 2.06.94-2.06 2.06-.94-2.06-.94-.94-2.06-.94 2.06-2.06.94zm-11 1L8.5 8.5l.94-2.06 2.06-.94-2.06-.94L8.5 2.5l-.94 2.06-2.06.94zm10 10l.94 2.06.94-2.06 2.06-.94-2.06-.94-.94-2.06-.94 2.06-2.06.94z\"/><path d=\"M17.41 7.96l-1.37-1.37c-.4-.4-.92-.59-1.43-.59-.52 0-1.04.2-1.43.59L10.3 9.45l-7.72 7.72c-.78.78-.78 2.05 0 2.83L4 21.41c.39.39.9.59 1.41.59.51 0 1.02-.2 1.41-.59l7.78-7.78 2.81-2.81c.8-.78.8-2.07 0-2.86zM5.41 20L4 18.59l7.72-7.72 1.47 1.35L5.41 20z\"/>\n",
              "  </svg>\n",
              "      </button>\n",
              "      \n",
              "  <style>\n",
              "    .colab-df-container {\n",
              "      display:flex;\n",
              "      flex-wrap:wrap;\n",
              "      gap: 12px;\n",
              "    }\n",
              "\n",
              "    .colab-df-convert {\n",
              "      background-color: #E8F0FE;\n",
              "      border: none;\n",
              "      border-radius: 50%;\n",
              "      cursor: pointer;\n",
              "      display: none;\n",
              "      fill: #1967D2;\n",
              "      height: 32px;\n",
              "      padding: 0 0 0 0;\n",
              "      width: 32px;\n",
              "    }\n",
              "\n",
              "    .colab-df-convert:hover {\n",
              "      background-color: #E2EBFA;\n",
              "      box-shadow: 0px 1px 2px rgba(60, 64, 67, 0.3), 0px 1px 3px 1px rgba(60, 64, 67, 0.15);\n",
              "      fill: #174EA6;\n",
              "    }\n",
              "\n",
              "    [theme=dark] .colab-df-convert {\n",
              "      background-color: #3B4455;\n",
              "      fill: #D2E3FC;\n",
              "    }\n",
              "\n",
              "    [theme=dark] .colab-df-convert:hover {\n",
              "      background-color: #434B5C;\n",
              "      box-shadow: 0px 1px 3px 1px rgba(0, 0, 0, 0.15);\n",
              "      filter: drop-shadow(0px 1px 2px rgba(0, 0, 0, 0.3));\n",
              "      fill: #FFFFFF;\n",
              "    }\n",
              "  </style>\n",
              "\n",
              "      <script>\n",
              "        const buttonEl =\n",
              "          document.querySelector('#df-628812ef-8408-4824-ad9e-1cc59e6c16ac button.colab-df-convert');\n",
              "        buttonEl.style.display =\n",
              "          google.colab.kernel.accessAllowed ? 'block' : 'none';\n",
              "\n",
              "        async function convertToInteractive(key) {\n",
              "          const element = document.querySelector('#df-628812ef-8408-4824-ad9e-1cc59e6c16ac');\n",
              "          const dataTable =\n",
              "            await google.colab.kernel.invokeFunction('convertToInteractive',\n",
              "                                                     [key], {});\n",
              "          if (!dataTable) return;\n",
              "\n",
              "          const docLinkHtml = 'Like what you see? Visit the ' +\n",
              "            '<a target=\"_blank\" href=https://colab.research.google.com/notebooks/data_table.ipynb>data table notebook</a>'\n",
              "            + ' to learn more about interactive tables.';\n",
              "          element.innerHTML = '';\n",
              "          dataTable['output_type'] = 'display_data';\n",
              "          await google.colab.output.renderOutput(dataTable, element);\n",
              "          const docLink = document.createElement('div');\n",
              "          docLink.innerHTML = docLinkHtml;\n",
              "          element.appendChild(docLink);\n",
              "        }\n",
              "      </script>\n",
              "    </div>\n",
              "  </div>\n",
              "  "
            ]
          },
          "metadata": {},
          "execution_count": 26
        }
      ]
    },
    {
      "cell_type": "markdown",
      "source": [
        "The ```list_rows()``` method will also let us look at just the information in a specific column. If we want to see the first five entries in the by column, for example, we can do that!"
      ],
      "metadata": {
        "id": "4CSlFfpId4W9"
      }
    },
    {
      "cell_type": "code",
      "source": [
        "client.list_rows(n_table, selected_fields=n_table.schema[:1], max_results=5).to_dataframe()"
      ],
      "metadata": {
        "colab": {
          "base_uri": "https://localhost:8080/",
          "height": 204
        },
        "id": "ZPn6y_I7d_QO",
        "outputId": "1eeb8e5f-3fcc-4054-e93e-bdf2eec4426b"
      },
      "execution_count": 29,
      "outputs": [
        {
          "output_type": "execute_result",
          "data": {
            "text/plain": [
              "  title\n",
              "0  None\n",
              "1  None\n",
              "2  None\n",
              "3  None\n",
              "4  None"
            ],
            "text/html": [
              "\n",
              "  <div id=\"df-91854c5b-63ea-4ee6-8ae5-ded068ae2484\">\n",
              "    <div class=\"colab-df-container\">\n",
              "      <div>\n",
              "<style scoped>\n",
              "    .dataframe tbody tr th:only-of-type {\n",
              "        vertical-align: middle;\n",
              "    }\n",
              "\n",
              "    .dataframe tbody tr th {\n",
              "        vertical-align: top;\n",
              "    }\n",
              "\n",
              "    .dataframe thead th {\n",
              "        text-align: right;\n",
              "    }\n",
              "</style>\n",
              "<table border=\"1\" class=\"dataframe\">\n",
              "  <thead>\n",
              "    <tr style=\"text-align: right;\">\n",
              "      <th></th>\n",
              "      <th>title</th>\n",
              "    </tr>\n",
              "  </thead>\n",
              "  <tbody>\n",
              "    <tr>\n",
              "      <th>0</th>\n",
              "      <td>None</td>\n",
              "    </tr>\n",
              "    <tr>\n",
              "      <th>1</th>\n",
              "      <td>None</td>\n",
              "    </tr>\n",
              "    <tr>\n",
              "      <th>2</th>\n",
              "      <td>None</td>\n",
              "    </tr>\n",
              "    <tr>\n",
              "      <th>3</th>\n",
              "      <td>None</td>\n",
              "    </tr>\n",
              "    <tr>\n",
              "      <th>4</th>\n",
              "      <td>None</td>\n",
              "    </tr>\n",
              "  </tbody>\n",
              "</table>\n",
              "</div>\n",
              "      <button class=\"colab-df-convert\" onclick=\"convertToInteractive('df-91854c5b-63ea-4ee6-8ae5-ded068ae2484')\"\n",
              "              title=\"Convert this dataframe to an interactive table.\"\n",
              "              style=\"display:none;\">\n",
              "        \n",
              "  <svg xmlns=\"http://www.w3.org/2000/svg\" height=\"24px\"viewBox=\"0 0 24 24\"\n",
              "       width=\"24px\">\n",
              "    <path d=\"M0 0h24v24H0V0z\" fill=\"none\"/>\n",
              "    <path d=\"M18.56 5.44l.94 2.06.94-2.06 2.06-.94-2.06-.94-.94-2.06-.94 2.06-2.06.94zm-11 1L8.5 8.5l.94-2.06 2.06-.94-2.06-.94L8.5 2.5l-.94 2.06-2.06.94zm10 10l.94 2.06.94-2.06 2.06-.94-2.06-.94-.94-2.06-.94 2.06-2.06.94z\"/><path d=\"M17.41 7.96l-1.37-1.37c-.4-.4-.92-.59-1.43-.59-.52 0-1.04.2-1.43.59L10.3 9.45l-7.72 7.72c-.78.78-.78 2.05 0 2.83L4 21.41c.39.39.9.59 1.41.59.51 0 1.02-.2 1.41-.59l7.78-7.78 2.81-2.81c.8-.78.8-2.07 0-2.86zM5.41 20L4 18.59l7.72-7.72 1.47 1.35L5.41 20z\"/>\n",
              "  </svg>\n",
              "      </button>\n",
              "      \n",
              "  <style>\n",
              "    .colab-df-container {\n",
              "      display:flex;\n",
              "      flex-wrap:wrap;\n",
              "      gap: 12px;\n",
              "    }\n",
              "\n",
              "    .colab-df-convert {\n",
              "      background-color: #E8F0FE;\n",
              "      border: none;\n",
              "      border-radius: 50%;\n",
              "      cursor: pointer;\n",
              "      display: none;\n",
              "      fill: #1967D2;\n",
              "      height: 32px;\n",
              "      padding: 0 0 0 0;\n",
              "      width: 32px;\n",
              "    }\n",
              "\n",
              "    .colab-df-convert:hover {\n",
              "      background-color: #E2EBFA;\n",
              "      box-shadow: 0px 1px 2px rgba(60, 64, 67, 0.3), 0px 1px 3px 1px rgba(60, 64, 67, 0.15);\n",
              "      fill: #174EA6;\n",
              "    }\n",
              "\n",
              "    [theme=dark] .colab-df-convert {\n",
              "      background-color: #3B4455;\n",
              "      fill: #D2E3FC;\n",
              "    }\n",
              "\n",
              "    [theme=dark] .colab-df-convert:hover {\n",
              "      background-color: #434B5C;\n",
              "      box-shadow: 0px 1px 3px 1px rgba(0, 0, 0, 0.15);\n",
              "      filter: drop-shadow(0px 1px 2px rgba(0, 0, 0, 0.3));\n",
              "      fill: #FFFFFF;\n",
              "    }\n",
              "  </style>\n",
              "\n",
              "      <script>\n",
              "        const buttonEl =\n",
              "          document.querySelector('#df-91854c5b-63ea-4ee6-8ae5-ded068ae2484 button.colab-df-convert');\n",
              "        buttonEl.style.display =\n",
              "          google.colab.kernel.accessAllowed ? 'block' : 'none';\n",
              "\n",
              "        async function convertToInteractive(key) {\n",
              "          const element = document.querySelector('#df-91854c5b-63ea-4ee6-8ae5-ded068ae2484');\n",
              "          const dataTable =\n",
              "            await google.colab.kernel.invokeFunction('convertToInteractive',\n",
              "                                                     [key], {});\n",
              "          if (!dataTable) return;\n",
              "\n",
              "          const docLinkHtml = 'Like what you see? Visit the ' +\n",
              "            '<a target=\"_blank\" href=https://colab.research.google.com/notebooks/data_table.ipynb>data table notebook</a>'\n",
              "            + ' to learn more about interactive tables.';\n",
              "          element.innerHTML = '';\n",
              "          dataTable['output_type'] = 'display_data';\n",
              "          await google.colab.output.renderOutput(dataTable, element);\n",
              "          const docLink = document.createElement('div');\n",
              "          docLink.innerHTML = docLinkHtml;\n",
              "          element.appendChild(docLink);\n",
              "        }\n",
              "      </script>\n",
              "    </div>\n",
              "  </div>\n",
              "  "
            ]
          },
          "metadata": {},
          "execution_count": 29
        }
      ]
    }
  ]
}
